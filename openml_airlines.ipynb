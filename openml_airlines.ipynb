{
 "cells": [
  {
   "cell_type": "code",
   "execution_count": 49,
   "metadata": {},
   "outputs": [],
   "source": [
    "import numpy as np \n",
    "import pandas as pd \n",
    "import matplotlib.pyplot as plt \n",
    "import seaborn as sns\n",
    "import openml"
   ]
  },
  {
   "cell_type": "code",
   "execution_count": 50,
   "metadata": {},
   "outputs": [],
   "source": [
    "#!pip install openml"
   ]
  },
  {
   "cell_type": "code",
   "execution_count": 51,
   "metadata": {},
   "outputs": [],
   "source": [
    "# Load the dataset from OpenML\n",
    "dataset_id = 42721  # OpenML ID for \"Airlines_DepDelay_1M\"\n",
    "dataset = openml.datasets.get_dataset(dataset_id, version = 1)"
   ]
  },
  {
   "cell_type": "code",
   "execution_count": 52,
   "metadata": {},
   "outputs": [],
   "source": [
    "# Convert OpenML dataset to Pandas DataFrame\n",
    "X, y, _, _ = dataset.get_data(target=dataset.default_target_attribute)\n",
    "df = pd.concat([X, y], axis=1)"
   ]
  },
  {
   "cell_type": "code",
   "execution_count": 53,
   "metadata": {},
   "outputs": [
    {
     "data": {
      "text/html": [
       "<div>\n",
       "<style scoped>\n",
       "    .dataframe tbody tr th:only-of-type {\n",
       "        vertical-align: middle;\n",
       "    }\n",
       "\n",
       "    .dataframe tbody tr th {\n",
       "        vertical-align: top;\n",
       "    }\n",
       "\n",
       "    .dataframe thead th {\n",
       "        text-align: right;\n",
       "    }\n",
       "</style>\n",
       "<table border=\"1\" class=\"dataframe\">\n",
       "  <thead>\n",
       "    <tr style=\"text-align: right;\">\n",
       "      <th></th>\n",
       "      <th>Month</th>\n",
       "      <th>DayofMonth</th>\n",
       "      <th>DayOfWeek</th>\n",
       "      <th>CRSDepTime</th>\n",
       "      <th>CRSArrTime</th>\n",
       "      <th>UniqueCarrier</th>\n",
       "      <th>Origin</th>\n",
       "      <th>Dest</th>\n",
       "      <th>Distance</th>\n",
       "      <th>DepDelay</th>\n",
       "    </tr>\n",
       "  </thead>\n",
       "  <tbody>\n",
       "    <tr>\n",
       "      <th>0</th>\n",
       "      <td>10</td>\n",
       "      <td>11</td>\n",
       "      <td>7</td>\n",
       "      <td>1300.0</td>\n",
       "      <td>1535.0</td>\n",
       "      <td>AA</td>\n",
       "      <td>LAX</td>\n",
       "      <td>HNL</td>\n",
       "      <td>2556.0</td>\n",
       "      <td>8.0</td>\n",
       "    </tr>\n",
       "    <tr>\n",
       "      <th>1</th>\n",
       "      <td>10</td>\n",
       "      <td>10</td>\n",
       "      <td>6</td>\n",
       "      <td>2035.0</td>\n",
       "      <td>2110.0</td>\n",
       "      <td>AA</td>\n",
       "      <td>OGG</td>\n",
       "      <td>HNL</td>\n",
       "      <td>100.0</td>\n",
       "      <td>-3.0</td>\n",
       "    </tr>\n",
       "    <tr>\n",
       "      <th>2</th>\n",
       "      <td>10</td>\n",
       "      <td>26</td>\n",
       "      <td>1</td>\n",
       "      <td>1200.0</td>\n",
       "      <td>1446.0</td>\n",
       "      <td>AA</td>\n",
       "      <td>JFK</td>\n",
       "      <td>LAX</td>\n",
       "      <td>2475.0</td>\n",
       "      <td>6.0</td>\n",
       "    </tr>\n",
       "    <tr>\n",
       "      <th>3</th>\n",
       "      <td>10</td>\n",
       "      <td>9</td>\n",
       "      <td>5</td>\n",
       "      <td>1145.0</td>\n",
       "      <td>1512.0</td>\n",
       "      <td>AA</td>\n",
       "      <td>JFK</td>\n",
       "      <td>SFO</td>\n",
       "      <td>2586.0</td>\n",
       "      <td>1.0</td>\n",
       "    </tr>\n",
       "    <tr>\n",
       "      <th>4</th>\n",
       "      <td>10</td>\n",
       "      <td>16</td>\n",
       "      <td>5</td>\n",
       "      <td>930.0</td>\n",
       "      <td>1149.0</td>\n",
       "      <td>AA</td>\n",
       "      <td>SFO</td>\n",
       "      <td>HNL</td>\n",
       "      <td>2399.0</td>\n",
       "      <td>0.0</td>\n",
       "    </tr>\n",
       "  </tbody>\n",
       "</table>\n",
       "</div>"
      ],
      "text/plain": [
       "   Month  DayofMonth  DayOfWeek  CRSDepTime  CRSArrTime UniqueCarrier Origin  \\\n",
       "0     10          11          7      1300.0      1535.0            AA    LAX   \n",
       "1     10          10          6      2035.0      2110.0            AA    OGG   \n",
       "2     10          26          1      1200.0      1446.0            AA    JFK   \n",
       "3     10           9          5      1145.0      1512.0            AA    JFK   \n",
       "4     10          16          5       930.0      1149.0            AA    SFO   \n",
       "\n",
       "  Dest  Distance  DepDelay  \n",
       "0  HNL    2556.0       8.0  \n",
       "1  HNL     100.0      -3.0  \n",
       "2  LAX    2475.0       6.0  \n",
       "3  SFO    2586.0       1.0  \n",
       "4  HNL    2399.0       0.0  "
      ]
     },
     "execution_count": 53,
     "metadata": {},
     "output_type": "execute_result"
    }
   ],
   "source": [
    "df.head()"
   ]
  },
  {
   "cell_type": "code",
   "execution_count": 54,
   "metadata": {},
   "outputs": [
    {
     "name": "stdout",
     "output_type": "stream",
     "text": [
      "<class 'pandas.core.frame.DataFrame'>\n",
      "RangeIndex: 1000000 entries, 0 to 999999\n",
      "Data columns (total 10 columns):\n",
      " #   Column         Non-Null Count    Dtype   \n",
      "---  ------         --------------    -----   \n",
      " 0   Month          1000000 non-null  uint8   \n",
      " 1   DayofMonth     1000000 non-null  uint8   \n",
      " 2   DayOfWeek      1000000 non-null  uint8   \n",
      " 3   CRSDepTime     1000000 non-null  float64 \n",
      " 4   CRSArrTime     1000000 non-null  float64 \n",
      " 5   UniqueCarrier  1000000 non-null  category\n",
      " 6   Origin         1000000 non-null  category\n",
      " 7   Dest           1000000 non-null  category\n",
      " 8   Distance       1000000 non-null  float64 \n",
      " 9   DepDelay       1000000 non-null  float64 \n",
      "dtypes: category(3), float64(4), uint8(3)\n",
      "memory usage: 38.2 MB\n"
     ]
    }
   ],
   "source": [
    "df.info()"
   ]
  },
  {
   "cell_type": "code",
   "execution_count": 55,
   "metadata": {},
   "outputs": [
    {
     "data": {
      "text/html": [
       "<div>\n",
       "<style scoped>\n",
       "    .dataframe tbody tr th:only-of-type {\n",
       "        vertical-align: middle;\n",
       "    }\n",
       "\n",
       "    .dataframe tbody tr th {\n",
       "        vertical-align: top;\n",
       "    }\n",
       "\n",
       "    .dataframe thead th {\n",
       "        text-align: right;\n",
       "    }\n",
       "</style>\n",
       "<table border=\"1\" class=\"dataframe\">\n",
       "  <thead>\n",
       "    <tr style=\"text-align: right;\">\n",
       "      <th></th>\n",
       "      <th>Month</th>\n",
       "      <th>DayofMonth</th>\n",
       "      <th>DayOfWeek</th>\n",
       "      <th>CRSDepTime</th>\n",
       "      <th>CRSArrTime</th>\n",
       "      <th>Distance</th>\n",
       "      <th>DepDelay</th>\n",
       "    </tr>\n",
       "  </thead>\n",
       "  <tbody>\n",
       "    <tr>\n",
       "      <th>count</th>\n",
       "      <td>1000000.000000</td>\n",
       "      <td>1000000.000000</td>\n",
       "      <td>1000000.000000</td>\n",
       "      <td>1000000.000000</td>\n",
       "      <td>1000000.000000</td>\n",
       "      <td>1000000.000000</td>\n",
       "      <td>1000000.000000</td>\n",
       "    </tr>\n",
       "    <tr>\n",
       "      <th>mean</th>\n",
       "      <td>6.496693</td>\n",
       "      <td>15.720187</td>\n",
       "      <td>3.944029</td>\n",
       "      <td>1333.301106</td>\n",
       "      <td>1492.460607</td>\n",
       "      <td>712.275619</td>\n",
       "      <td>8.191935</td>\n",
       "    </tr>\n",
       "    <tr>\n",
       "      <th>std</th>\n",
       "      <td>3.425559</td>\n",
       "      <td>8.787525</td>\n",
       "      <td>1.989687</td>\n",
       "      <td>473.972347</td>\n",
       "      <td>491.043639</td>\n",
       "      <td>556.836029</td>\n",
       "      <td>28.877186</td>\n",
       "    </tr>\n",
       "    <tr>\n",
       "      <th>min</th>\n",
       "      <td>1.000000</td>\n",
       "      <td>1.000000</td>\n",
       "      <td>1.000000</td>\n",
       "      <td>0.000000</td>\n",
       "      <td>0.000000</td>\n",
       "      <td>0.000000</td>\n",
       "      <td>-1197.000000</td>\n",
       "    </tr>\n",
       "    <tr>\n",
       "      <th>25%</th>\n",
       "      <td>4.000000</td>\n",
       "      <td>8.000000</td>\n",
       "      <td>2.000000</td>\n",
       "      <td>930.000000</td>\n",
       "      <td>1115.000000</td>\n",
       "      <td>313.000000</td>\n",
       "      <td>-3.000000</td>\n",
       "    </tr>\n",
       "    <tr>\n",
       "      <th>50%</th>\n",
       "      <td>6.000000</td>\n",
       "      <td>16.000000</td>\n",
       "      <td>4.000000</td>\n",
       "      <td>1325.000000</td>\n",
       "      <td>1520.000000</td>\n",
       "      <td>551.000000</td>\n",
       "      <td>0.000000</td>\n",
       "    </tr>\n",
       "    <tr>\n",
       "      <th>75%</th>\n",
       "      <td>9.000000</td>\n",
       "      <td>23.000000</td>\n",
       "      <td>6.000000</td>\n",
       "      <td>1725.000000</td>\n",
       "      <td>1911.000000</td>\n",
       "      <td>946.000000</td>\n",
       "      <td>7.000000</td>\n",
       "    </tr>\n",
       "    <tr>\n",
       "      <th>max</th>\n",
       "      <td>12.000000</td>\n",
       "      <td>31.000000</td>\n",
       "      <td>7.000000</td>\n",
       "      <td>2400.000000</td>\n",
       "      <td>2400.000000</td>\n",
       "      <td>4983.000000</td>\n",
       "      <td>2119.000000</td>\n",
       "    </tr>\n",
       "  </tbody>\n",
       "</table>\n",
       "</div>"
      ],
      "text/plain": [
       "                Month      DayofMonth       DayOfWeek      CRSDepTime  \\\n",
       "count  1000000.000000  1000000.000000  1000000.000000  1000000.000000   \n",
       "mean         6.496693       15.720187        3.944029     1333.301106   \n",
       "std          3.425559        8.787525        1.989687      473.972347   \n",
       "min          1.000000        1.000000        1.000000        0.000000   \n",
       "25%          4.000000        8.000000        2.000000      930.000000   \n",
       "50%          6.000000       16.000000        4.000000     1325.000000   \n",
       "75%          9.000000       23.000000        6.000000     1725.000000   \n",
       "max         12.000000       31.000000        7.000000     2400.000000   \n",
       "\n",
       "           CRSArrTime        Distance        DepDelay  \n",
       "count  1000000.000000  1000000.000000  1000000.000000  \n",
       "mean      1492.460607      712.275619        8.191935  \n",
       "std        491.043639      556.836029       28.877186  \n",
       "min          0.000000        0.000000    -1197.000000  \n",
       "25%       1115.000000      313.000000       -3.000000  \n",
       "50%       1520.000000      551.000000        0.000000  \n",
       "75%       1911.000000      946.000000        7.000000  \n",
       "max       2400.000000     4983.000000     2119.000000  "
      ]
     },
     "execution_count": 55,
     "metadata": {},
     "output_type": "execute_result"
    }
   ],
   "source": [
    "df.describe()"
   ]
  },
  {
   "cell_type": "code",
   "execution_count": 56,
   "metadata": {},
   "outputs": [
    {
     "data": {
      "image/png": "[encoded data removed]",
      "text/plain": [
       "<Figure size 800x500 with 1 Axes>"
      ]
     },
     "metadata": {},
     "output_type": "display_data"
    }
   ],
   "source": [
    "# Plot distribution of Departure Delays\n",
    "plt.figure(figsize=(8, 5), dpi=100)\n",
    "sns.histplot(df[\"DepDelay\"], bins=50, kde=True)\n",
    "plt.title(\"Distribution of Departure Delays\")\n",
    "plt.xlabel(\"Departure Delay (minutes)\")\n",
    "plt.ylabel(\"Frequency\")\n",
    "plt.show()"
   ]
  },
  {
   "cell_type": "code",
   "execution_count": 57,
   "metadata": {},
   "outputs": [
    {
     "data": {
      "image/png": "[encoded data removed]",
      "text/plain": [
       "<Figure size 800x500 with 1 Axes>"
      ]
     },
     "metadata": {},
     "output_type": "display_data"
    }
   ],
   "source": [
    "#Boxplot of Departure Delays\n",
    "plt.figure(figsize=(8, 5))\n",
    "sns.boxplot(x=df[\"DepDelay\"])\n",
    "plt.title(\"Boxplot of Departure Delays\")\n",
    "plt.xlabel(\"Departure Delay (minutes)\")\n",
    "plt.show()"
   ]
  },
  {
   "cell_type": "code",
   "execution_count": 58,
   "metadata": {},
   "outputs": [
    {
     "name": "stdout",
     "output_type": "stream",
     "text": [
      "Original dataset size: (1000000, 10)\n",
      "Filtered dataset size: (880367, 10)\n"
     ]
    }
   ],
   "source": [
    "#remove outliers\n",
    "Q1 = df[\"DepDelay\"].quantile(0.25)  # First quartile\n",
    "Q3 = df[\"DepDelay\"].quantile(0.75)  # Third quartile\n",
    "IQR = Q3 - Q1  # Interquartile Range\n",
    "\n",
    "# Define lower and upper bounds for outliers\n",
    "lower_bound = Q1 - 1.5 * IQR\n",
    "upper_bound = Q3 + 1.5 * IQR\n",
    "\n",
    "# Filter the dataset\n",
    "df_filtered = df[(df[\"DepDelay\"] >= lower_bound) & (df[\"DepDelay\"] <= upper_bound)]\n",
    "\n",
    "# Show new dataset shape\n",
    "print(\"Original dataset size:\", df.shape)\n",
    "print(\"Filtered dataset size:\", df_filtered.shape)"
   ]
  },
  {
   "cell_type": "code",
   "execution_count": 59,
   "metadata": {},
   "outputs": [],
   "source": [
    "# Load your cleaned dataset\n",
    "df = df_filtered.copy()"
   ]
  },
  {
   "cell_type": "code",
   "execution_count": 60,
   "metadata": {},
   "outputs": [
    {
     "name": "stdout",
     "output_type": "stream",
     "text": [
      "DelayStatus\n",
      "0    593538\n",
      "1    286829\n",
      "Name: count, dtype: int64\n"
     ]
    }
   ],
   "source": [
    "# Convert DepDelay into binary classification (1 = delayed, 0 = on-time)\n",
    "df[\"DelayStatus\"] = (df[\"DepDelay\"] > 0).astype(int)\n",
    "\n",
    "# Drop the original `DepDelay` column since it's now converted\n",
    "df.drop(columns=[\"DepDelay\"], inplace=True)\n",
    "\n",
    "# Check distribution of delayed vs. on-time flights\n",
    "print(df[\"DelayStatus\"].value_counts())\n"
   ]
  },
  {
   "cell_type": "code",
   "execution_count": 61,
   "metadata": {},
   "outputs": [
    {
     "data": {
      "text/plain": [
       "Month               uint8\n",
       "DayofMonth          uint8\n",
       "DayOfWeek           uint8\n",
       "CRSDepTime        float64\n",
       "CRSArrTime        float64\n",
       "UniqueCarrier    category\n",
       "Origin           category\n",
       "Dest             category\n",
       "Distance          float64\n",
       "DelayStatus         int32\n",
       "dtype: object"
      ]
     },
     "execution_count": 61,
     "metadata": {},
     "output_type": "execute_result"
    }
   ],
   "source": [
    "df.dtypes"
   ]
  },
  {
   "cell_type": "code",
   "execution_count": 62,
   "metadata": {},
   "outputs": [],
   "source": [
    "# Convert categorical columns to numerical using One-Hot Encoding\n",
    "df = pd.get_dummies(df, columns=[\"UniqueCarrier\", \"Origin\", \"Dest\"], drop_first=True)\n",
    "\n"
   ]
  },
  {
   "cell_type": "code",
   "execution_count": 63,
   "metadata": {},
   "outputs": [
    {
     "name": "stdout",
     "output_type": "stream",
     "text": [
      "Training set size: (704293, 755)\n",
      "Testing set size: (176074, 755)\n"
     ]
    }
   ],
   "source": [
    "from sklearn.model_selection import train_test_split\n",
    "\n",
    "# Define features (X) and target (y)\n",
    "X = df.drop(columns=[\"DelayStatus\"])  # Features\n",
    "y = df[\"DelayStatus\"]  # Target variable\n",
    "\n",
    "# Split dataset into 80% training and 20% testing\n",
    "X_train, X_test, y_train, y_test = train_test_split(X, y, test_size=0.2, random_state=42, stratify=y)\n",
    "\n",
    "print(\"Training set size:\", X_train.shape)\n",
    "print(\"Testing set size:\", X_test.shape)\n",
    "\n"
   ]
  },
  {
   "cell_type": "code",
   "execution_count": null,
   "metadata": {},
   "outputs": [],
   "source": [
    "X_train.head()"
   ]
  },
  {
   "cell_type": "code",
   "execution_count": 66,
   "metadata": {},
   "outputs": [],
   "source": [
    "from sklearn.model_selection import GridSearchCV\n",
    "from sklearn.ensemble import RandomForestClassifier\n",
    "\n",
    "# Define the parameter grid for tuning\n",
    "param_grid = {\n",
    "    \"n_estimators\": [50, 100],       # Number of trees in forest\n",
    "    \"max_depth\": [None, 10],          # Maximum depth of each tree\n",
    "    \"min_samples_split\": [2, 5],      # Minimum samples to split an internal node\n",
    "    \"min_samples_leaf\": [1, 2],        # Minimum samples required at a leaf node\n",
    "}\n",
    "\n",
    "# Initialize Random Forest Classifier\n",
    "clf = RandomForestClassifier(random_state=42)\n",
    "\n",
    "# Initialize GridSearchCV\n",
    "grid_search = GridSearchCV(\n",
    "    estimator=clf, \n",
    "    param_grid=param_grid,\n",
    "    cv=3,  # 3-fold cross-validation\n",
    "    n_jobs=-1,  # Use all CPU cores for faster computation\n",
    "    verbose=0  \n",
    ")\n"
   ]
  }
 ],
 "metadata": {
  "kernelspec": {
   "display_name": "base",
   "language": "python",
   "name": "python3"
  },
  "language_info": {
   "codemirror_mode": {
    "name": "ipython",
    "version": 3
   },
   "file_extension": ".py",
   "mimetype": "text/x-python",
   "name": "python",
   "nbconvert_exporter": "python",
   "pygments_lexer": "ipython3",
   "version": "3.12.3"
  }
 },
 "nbformat": 4,
 "nbformat_minor": 2
}
